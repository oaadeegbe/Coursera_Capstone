{
    "cells": [
        {
            "cell_type": "markdown",
            "metadata": {},
            "source": "## 1. Introduction/Business Problem"
        },
        {
            "cell_type": "markdown",
            "metadata": {
                "collapsed": true
            },
            "source": "In this project, we shall be considering two locations; Houston, TX, and New York, NY. The idea behind this is to firstly compare the business types using Foursquare location data.\n\n[The Top 10 Largest Cities in the U.S. by Population](https://www.moving.com/tips/the-top-10-largest-us-cities-by-population/) ranks New York City as number one and ranks Houston as number four, with over 8 million and over 2 million inhabitants respectively. The article also details New York as one of the largest financial hubs in the world and Houston as one of the best places for business.\n\nDue to this, we have decided to compare these two cities to review the top business types by number of businesses under those types. Using that information, we will also be recommending business types to potential investors who want to invest in these choice locations."
        },
        {
            "cell_type": "markdown",
            "metadata": {},
            "source": "## 2. Data"
        },
        {
            "cell_type": "markdown",
            "metadata": {},
            "source": "For this project, we will be utilizing the Foursquare API to fetch location data of both Houston and New York. To start with, we will geolocate both cities using the geopy library. These location points (latitude and longitude) will then be combined with other essential parameters to be used for the Foursquare API.\n\nThe fetched data will, which comes in JSON format will then be converted to a dataframe (with the location points merged to its respective location) containing just the essential data columns such as id, name, address, city, state, country, latitude, longitude, postal code, and business types.\n\nAs mentioned in the Introduction/Business Problem section, these dataframes for both cities will help us determine the top business in both cities and as well help us recommend business types to potential investors."
        }
    ],
    "metadata": {
        "kernelspec": {
            "display_name": "Python 3.6",
            "language": "python",
            "name": "python3"
        },
        "language_info": {
            "codemirror_mode": {
                "name": "ipython",
                "version": 3
            },
            "file_extension": ".py",
            "mimetype": "text/x-python",
            "name": "python",
            "nbconvert_exporter": "python",
            "pygments_lexer": "ipython3",
            "version": "3.6.9"
        }
    },
    "nbformat": 4,
    "nbformat_minor": 1
}